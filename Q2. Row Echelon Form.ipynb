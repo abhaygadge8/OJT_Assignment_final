{
 "cells": [
  {
   "cell_type": "markdown",
   "id": "2da2e2a8",
   "metadata": {},
   "source": [
    "Create a 5x5 matrix, A, with entries randomly chosen integers between 0 and 9. To generate the\n",
    "random matrix, set the random seed as the last two digits of your roll number. Reduce matrix A to its\n",
    "Row Echelon Form by performing elementary row operations."
   ]
  },
  {
   "cell_type": "code",
   "execution_count": 6,
   "id": "32c5c453",
   "metadata": {},
   "outputs": [
    {
     "name": "stdout",
     "output_type": "stream",
     "text": [
      "Original Matrix A:\n",
      "[[9 4 0 1 9]\n",
      " [0 1 8 9 0]\n",
      " [8 6 4 3 0]\n",
      " [4 6 8 1 8]\n",
      " [4 1 3 6 5]]\n",
      "\n",
      "Row Echelon Form of Matrix A:\n",
      "[[ 1.          0.44444444  0.          0.11111111  1.        ]\n",
      " [ 0.          1.          8.          9.          0.        ]\n",
      " [-0.         -0.          1.          1.27857143  0.51428571]\n",
      " [-0.         -0.         -0.          1.         -3.84713376]\n",
      " [-0.         -0.         -0.         -0.          1.        ]]\n"
     ]
    }
   ],
   "source": [
    "import numpy as np\n",
    "\n",
    "seed = 10  \n",
    "np.random.seed(seed)\n",
    "\n",
    "\n",
    "A = np.random.randint(0, 10, (5, 5))\n",
    "\n",
    "\n",
    "print(\"Original Matrix A:\")\n",
    "print(A)\n",
    "print()\n",
    "\n",
    "A = A.astype(float)\n",
    "for i in range(5):\n",
    "    # Find the first nonzero entry in the current row\n",
    "    pivot = np.argmax(A[i] != 0)\n",
    "    if pivot == len(A):  # Skip if row is all zeros\n",
    "        continue\n",
    "\n",
    "    \n",
    "    A[[i, pivot]] = A[[pivot, i]]\n",
    "    A[i] /= A[i, i]\n",
    "\n",
    "    for k in range(i + 1, 5):\n",
    "        A[k] -= A[k, i] * A[i]\n",
    "\n",
    "\n",
    "print(\"Row Echelon Form of Matrix A:\")\n",
    "print(A)"
   ]
  },
  {
   "cell_type": "code",
   "execution_count": null,
   "id": "67013557",
   "metadata": {},
   "outputs": [],
   "source": []
  }
 ],
 "metadata": {
  "kernelspec": {
   "display_name": "Python 3 (ipykernel)",
   "language": "python",
   "name": "python3"
  },
  "language_info": {
   "codemirror_mode": {
    "name": "ipython",
    "version": 3
   },
   "file_extension": ".py",
   "mimetype": "text/x-python",
   "name": "python",
   "nbconvert_exporter": "python",
   "pygments_lexer": "ipython3",
   "version": "3.11.4"
  }
 },
 "nbformat": 4,
 "nbformat_minor": 5
}
