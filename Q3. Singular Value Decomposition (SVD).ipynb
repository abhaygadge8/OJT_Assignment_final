{
 "cells": [
  {
   "cell_type": "markdown",
   "id": "ec292b56",
   "metadata": {},
   "source": [
    "Perform Singular Value Decomposition on the matrix A obtained in Question 2. Separate and print\n",
    "matrices U, Σ, and 𝑉் . Verify that A equals the product of U, Σ, and 𝑉் . Additionally, find the rank 2\n",
    "and rank 3 approximations of matrix A."
   ]
  },
  {
   "cell_type": "code",
   "execution_count": 2,
   "id": "fb2fa14c",
   "metadata": {},
   "outputs": [
    {
     "name": "stdout",
     "output_type": "stream",
     "text": [
      "Matrix U:\n",
      "[[-0.50607307  0.57352192  0.02218552  0.39771732 -0.50625231]\n",
      " [-0.31917458 -0.80609058  0.03688056  0.15189298 -0.47319542]\n",
      " [-0.42724355 -0.01415109 -0.84662405 -0.27476083  0.15810408]\n",
      " [-0.56116957  0.04548564  0.51352228 -0.63267664  0.13796702]\n",
      " [-0.3802227  -0.13791804  0.13292933  0.58564171  0.68975568]]\n",
      "\n",
      "Matrix Σ:\n",
      "[[22.05964437  0.          0.          0.          0.        ]\n",
      " [ 0.         12.12231444  0.          0.          0.        ]\n",
      " [ 0.          0.          6.81340664  0.          0.        ]\n",
      " [ 0.          0.          0.          6.16417546  0.        ]\n",
      " [ 0.          0.          0.          0.          0.04487528]]\n",
      "\n",
      "Matrix V^T:\n",
      "[[-0.5321108  -0.3923077  -0.44843858 -0.34011794 -0.49616066]\n",
      " [ 0.38596251  0.12688059 -0.54075466 -0.61916965  0.39893308]\n",
      " [-0.5852456  -0.25538746  0.20775431 -0.12837386  0.72981034]\n",
      " [ 0.19357487 -0.50553734 -0.51724476  0.61997672  0.23462202]\n",
      " [ 0.43348286 -0.71358617  0.44247401 -0.3163823  -0.08370411]]\n",
      "\n",
      "Is A equal to U * Σ * V^T? True\n",
      "\n",
      "Rank 2 Approximation of A:\n",
      "[[ 8.62374505  5.26176771  1.24672522 -0.50771729  8.31258184]\n",
      " [-0.02497644  1.52235358  8.44148455  8.44505867 -0.40484125]\n",
      " [ 4.94885002  3.67567195  4.31922534  3.31177217  4.60780062]\n",
      " [ 6.79992305  4.92641675  5.25314395  3.86898361  6.36204084]\n",
      " [ 3.81783535  3.07838136  4.66539339  3.88794653  3.49461543]]\n",
      "\n",
      "Rank 3 Approximation of A:\n",
      "[[ 8.53527993  5.22316361  1.27812914 -0.52712215  8.42289921]\n",
      " [-0.17203827  1.45817924  8.49368952  8.41280059 -0.22145286]\n",
      " [ 8.32477718  5.14884743  3.12081666  4.05228315  0.39796708]\n",
      " [ 4.75224459  4.03285787  5.98004222  3.41982451  8.91552764]\n",
      " [ 3.28777747  2.84707653  4.85355679  3.77167812  4.15560583]]\n"
     ]
    }
   ],
   "source": [
    "import numpy as np\n",
    "\n",
    "# Define the matrix A\n",
    "np.random.seed(10)\n",
    "A = np.random.randint(0, 10, (5, 5))\n",
    "\n",
    "# Perform Singular Value Decomposition (SVD)\n",
    "U, S, Vt = np.linalg.svd(A, full_matrices=False)\n",
    "\n",
    "# Create the diagonal matrix Σ from the singular values\n",
    "Sigma = np.diag(S)\n",
    "\n",
    "# Print the matrices U, Σ, and V^T\n",
    "print(\"Matrix U:\")\n",
    "print(U)\n",
    "print(\"\\nMatrix Σ:\")\n",
    "print(Sigma)\n",
    "print(\"\\nMatrix V^T:\")\n",
    "print(Vt)\n",
    "print()\n",
    "\n",
    "# Verify that A equals the product of U, Σ, and V^T\n",
    "reconstructed_A = np.dot(U, np.dot(Sigma, Vt))\n",
    "print(\"Is A equal to U * Σ * V^T?\", np.allclose(A, reconstructed_A))\n",
    "print()\n",
    "\n",
    "# Find the rank 2 and rank 3 approximations of matrix A\n",
    "rank_2_approx = np.dot(U[:, :2], np.dot(np.diag(S[:2]), Vt[:2, :]))\n",
    "rank_3_approx = np.dot(U[:, :3], np.dot(np.diag(S[:3]), Vt[:3, :]))\n",
    "\n",
    "print(\"Rank 2 Approximation of A:\")\n",
    "print(rank_2_approx)\n",
    "print(\"\\nRank 3 Approximation of A:\")\n",
    "print(rank_3_approx)"
   ]
  },
  {
   "cell_type": "code",
   "execution_count": null,
   "id": "288e875f",
   "metadata": {},
   "outputs": [],
   "source": []
  }
 ],
 "metadata": {
  "kernelspec": {
   "display_name": "Python 3 (ipykernel)",
   "language": "python",
   "name": "python3"
  },
  "language_info": {
   "codemirror_mode": {
    "name": "ipython",
    "version": 3
   },
   "file_extension": ".py",
   "mimetype": "text/x-python",
   "name": "python",
   "nbconvert_exporter": "python",
   "pygments_lexer": "ipython3",
   "version": "3.11.4"
  }
 },
 "nbformat": 4,
 "nbformat_minor": 5
}
